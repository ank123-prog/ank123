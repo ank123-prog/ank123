{
 "cells": [
  {
   "cell_type": "code",
   "execution_count": null,
   "metadata": {
    "colab": {
     "base_uri": "https://localhost:8080/"
    },
    "id": "mCnZny2goWOD",
    "outputId": "c7809b04-abdb-4b83-c4b4-874b6cd1f19c"
   },
   "outputs": [
    {
     "name": "stdout",
     "output_type": "stream",
     "text": [
      "Mounted at /gdrive\n"
     ]
    }
   ],
   "source": [
    "#import google drive for the dataset file \n",
    "from google.colab import drive \n",
    "drive.mount('/gdrive')"
   ]
  },
  {
   "cell_type": "code",
   "execution_count": null,
   "metadata": {
    "id": "Iynf7eneqByN"
   },
   "outputs": [],
   "source": [
    "#import the libraries \n",
    "import numpy as np\n",
    "import pandas as pd"
   ]
  },
  {
   "cell_type": "code",
   "execution_count": null,
   "metadata": {
    "id": "bq55cwn_qV-8"
   },
   "outputs": [],
   "source": [
    "#import the dataset file from the drive \n",
    "df = pd.read_csv(\"/gdrive/My Drive/DataSet.csv\")"
   ]
  },
  {
   "cell_type": "code",
   "execution_count": null,
   "metadata": {
    "colab": {
     "base_uri": "https://localhost:8080/",
     "height": 419
    },
    "id": "SugKK4j_qjpP",
    "outputId": "88660b7f-c171-4b1c-fd74-c28b9b22f5ec"
   },
   "outputs": [
    {
     "data": {
      "text/html": [
       "<div>\n",
       "<style scoped>\n",
       "    .dataframe tbody tr th:only-of-type {\n",
       "        vertical-align: middle;\n",
       "    }\n",
       "\n",
       "    .dataframe tbody tr th {\n",
       "        vertical-align: top;\n",
       "    }\n",
       "\n",
       "    .dataframe thead th {\n",
       "        text-align: right;\n",
       "    }\n",
       "</style>\n",
       "<table border=\"1\" class=\"dataframe\">\n",
       "  <thead>\n",
       "    <tr style=\"text-align: right;\">\n",
       "      <th></th>\n",
       "      <th>Unnamed: 0</th>\n",
       "      <th>REVIEW</th>\n",
       "      <th>SENTIMENT</th>\n",
       "    </tr>\n",
       "  </thead>\n",
       "  <tbody>\n",
       "    <tr>\n",
       "      <th>0</th>\n",
       "      <td>0</td>\n",
       "      <td>Friendly patient (pun not intended) attitude o...</td>\n",
       "      <td>Positive</td>\n",
       "    </tr>\n",
       "    <tr>\n",
       "      <th>1</th>\n",
       "      <td>1</td>\n",
       "      <td>I had tried to register at this surgery as my ...</td>\n",
       "      <td>Positive</td>\n",
       "    </tr>\n",
       "    <tr>\n",
       "      <th>2</th>\n",
       "      <td>2</td>\n",
       "      <td>Clean, smart surgery, polite and friendly rece...</td>\n",
       "      <td>Positive</td>\n",
       "    </tr>\n",
       "    <tr>\n",
       "      <th>3</th>\n",
       "      <td>3</td>\n",
       "      <td>It's been a year since I have been with this  ...</td>\n",
       "      <td>Positive</td>\n",
       "    </tr>\n",
       "    <tr>\n",
       "      <th>4</th>\n",
       "      <td>4</td>\n",
       "      <td>I have lived in many parts of the Country and ...</td>\n",
       "      <td>Positive</td>\n",
       "    </tr>\n",
       "    <tr>\n",
       "      <th>...</th>\n",
       "      <td>...</td>\n",
       "      <td>...</td>\n",
       "      <td>...</td>\n",
       "    </tr>\n",
       "    <tr>\n",
       "      <th>26024</th>\n",
       "      <td>10672</td>\n",
       "      <td>My friend who was in for at least a month with...</td>\n",
       "      <td>Negative</td>\n",
       "    </tr>\n",
       "    <tr>\n",
       "      <th>26025</th>\n",
       "      <td>10673</td>\n",
       "      <td>Id be interested in your views and help in und...</td>\n",
       "      <td>Negative</td>\n",
       "    </tr>\n",
       "    <tr>\n",
       "      <th>26026</th>\n",
       "      <td>10674</td>\n",
       "      <td>More nice staff like those two, the nurses wer...</td>\n",
       "      <td>Negative</td>\n",
       "    </tr>\n",
       "    <tr>\n",
       "      <th>26027</th>\n",
       "      <td>10675</td>\n",
       "      <td>Visited my relative on WD14 today and the nurs...</td>\n",
       "      <td>Negative</td>\n",
       "    </tr>\n",
       "    <tr>\n",
       "      <th>26028</th>\n",
       "      <td>10676</td>\n",
       "      <td>the waiting time</td>\n",
       "      <td>Negative</td>\n",
       "    </tr>\n",
       "  </tbody>\n",
       "</table>\n",
       "<p>26029 rows × 3 columns</p>\n",
       "</div>"
      ],
      "text/plain": [
       "       Unnamed: 0                                             REVIEW SENTIMENT\n",
       "0               0  Friendly patient (pun not intended) attitude o...  Positive\n",
       "1               1  I had tried to register at this surgery as my ...  Positive\n",
       "2               2  Clean, smart surgery, polite and friendly rece...  Positive\n",
       "3               3  It's been a year since I have been with this  ...  Positive\n",
       "4               4  I have lived in many parts of the Country and ...  Positive\n",
       "...           ...                                                ...       ...\n",
       "26024       10672  My friend who was in for at least a month with...  Negative\n",
       "26025       10673  Id be interested in your views and help in und...  Negative\n",
       "26026       10674  More nice staff like those two, the nurses wer...  Negative\n",
       "26027       10675  Visited my relative on WD14 today and the nurs...  Negative\n",
       "26028       10676                                   the waiting time  Negative\n",
       "\n",
       "[26029 rows x 3 columns]"
      ]
     },
     "execution_count": 6,
     "metadata": {
      "tags": []
     },
     "output_type": "execute_result"
    }
   ],
   "source": [
    "df"
   ]
  },
  {
   "cell_type": "code",
   "execution_count": null,
   "metadata": {
    "colab": {
     "base_uri": "https://localhost:8080/",
     "height": 419
    },
    "id": "ZrkjNBfWqmfG",
    "outputId": "08fea227-10a8-4929-d67a-3e6ef4cc4faf"
   },
   "outputs": [
    {
     "data": {
      "text/html": [
       "<div>\n",
       "<style scoped>\n",
       "    .dataframe tbody tr th:only-of-type {\n",
       "        vertical-align: middle;\n",
       "    }\n",
       "\n",
       "    .dataframe tbody tr th {\n",
       "        vertical-align: top;\n",
       "    }\n",
       "\n",
       "    .dataframe thead th {\n",
       "        text-align: right;\n",
       "    }\n",
       "</style>\n",
       "<table border=\"1\" class=\"dataframe\">\n",
       "  <thead>\n",
       "    <tr style=\"text-align: right;\">\n",
       "      <th></th>\n",
       "      <th>REVIEW</th>\n",
       "      <th>SENTIMENT</th>\n",
       "    </tr>\n",
       "  </thead>\n",
       "  <tbody>\n",
       "    <tr>\n",
       "      <th>0</th>\n",
       "      <td>Friendly patient (pun not intended) attitude o...</td>\n",
       "      <td>Positive</td>\n",
       "    </tr>\n",
       "    <tr>\n",
       "      <th>1</th>\n",
       "      <td>I had tried to register at this surgery as my ...</td>\n",
       "      <td>Positive</td>\n",
       "    </tr>\n",
       "    <tr>\n",
       "      <th>2</th>\n",
       "      <td>Clean, smart surgery, polite and friendly rece...</td>\n",
       "      <td>Positive</td>\n",
       "    </tr>\n",
       "    <tr>\n",
       "      <th>3</th>\n",
       "      <td>It's been a year since I have been with this  ...</td>\n",
       "      <td>Positive</td>\n",
       "    </tr>\n",
       "    <tr>\n",
       "      <th>4</th>\n",
       "      <td>I have lived in many parts of the Country and ...</td>\n",
       "      <td>Positive</td>\n",
       "    </tr>\n",
       "    <tr>\n",
       "      <th>...</th>\n",
       "      <td>...</td>\n",
       "      <td>...</td>\n",
       "    </tr>\n",
       "    <tr>\n",
       "      <th>26024</th>\n",
       "      <td>My friend who was in for at least a month with...</td>\n",
       "      <td>Negative</td>\n",
       "    </tr>\n",
       "    <tr>\n",
       "      <th>26025</th>\n",
       "      <td>Id be interested in your views and help in und...</td>\n",
       "      <td>Negative</td>\n",
       "    </tr>\n",
       "    <tr>\n",
       "      <th>26026</th>\n",
       "      <td>More nice staff like those two, the nurses wer...</td>\n",
       "      <td>Negative</td>\n",
       "    </tr>\n",
       "    <tr>\n",
       "      <th>26027</th>\n",
       "      <td>Visited my relative on WD14 today and the nurs...</td>\n",
       "      <td>Negative</td>\n",
       "    </tr>\n",
       "    <tr>\n",
       "      <th>26028</th>\n",
       "      <td>the waiting time</td>\n",
       "      <td>Negative</td>\n",
       "    </tr>\n",
       "  </tbody>\n",
       "</table>\n",
       "<p>26029 rows × 2 columns</p>\n",
       "</div>"
      ],
      "text/plain": [
       "                                                  REVIEW SENTIMENT\n",
       "0      Friendly patient (pun not intended) attitude o...  Positive\n",
       "1      I had tried to register at this surgery as my ...  Positive\n",
       "2      Clean, smart surgery, polite and friendly rece...  Positive\n",
       "3      It's been a year since I have been with this  ...  Positive\n",
       "4      I have lived in many parts of the Country and ...  Positive\n",
       "...                                                  ...       ...\n",
       "26024  My friend who was in for at least a month with...  Negative\n",
       "26025  Id be interested in your views and help in und...  Negative\n",
       "26026  More nice staff like those two, the nurses wer...  Negative\n",
       "26027  Visited my relative on WD14 today and the nurs...  Negative\n",
       "26028                                   the waiting time  Negative\n",
       "\n",
       "[26029 rows x 2 columns]"
      ]
     },
     "execution_count": 7,
     "metadata": {
      "tags": []
     },
     "output_type": "execute_result"
    }
   ],
   "source": [
    "#Remove the extra column\n",
    "df = df[[\"REVIEW\",\"SENTIMENT\"]]\n",
    "df"
   ]
  },
  {
   "cell_type": "code",
   "execution_count": null,
   "metadata": {
    "id": "C8w6pcvDq68w"
   },
   "outputs": [],
   "source": [
    "#Shuffle the data for increasing the accuracy of the model\n",
    "df = df.sample(frac = 1).reset_index(drop=True)"
   ]
  },
  {
   "cell_type": "code",
   "execution_count": null,
   "metadata": {
    "id": "xKs8OKT0rNwf"
   },
   "outputs": [],
   "source": [
    "#plot the dataset\n",
    "import seaborn as sns"
   ]
  },
  {
   "cell_type": "code",
   "execution_count": null,
   "metadata": {
    "colab": {
     "base_uri": "https://localhost:8080/",
     "height": 296
    },
    "id": "gc0mgg6Srm5Z",
    "outputId": "8db7386d-f43a-4d84-c2a1-b81dc76c2c2b"
   },
   "outputs": [
    {
     "data": {
      "text/plain": [
       "<matplotlib.axes._subplots.AxesSubplot at 0x7f059475e2b0>"
      ]
     },
     "execution_count": 10,
     "metadata": {
      "tags": []
     },
     "output_type": "execute_result"
    },
    {
     "data": {
      "image/png": "[encoded data removed]",
      "text/plain": [
       "<Figure size 432x288 with 1 Axes>"
      ]
     },
     "metadata": {
      "needs_background": "light",
      "tags": []
     },
     "output_type": "display_data"
    }
   ],
   "source": [
    "sns.countplot(x = 'SENTIMENT', data = df)"
   ]
  },
  {
   "cell_type": "code",
   "execution_count": null,
   "metadata": {
    "id": "2r2xibL-rwiq"
   },
   "outputs": [],
   "source": [
    "#import libraries for data cleaning \n",
    "import spacy \n",
    "nlp = spacy.load('en_core_web_sm')\n",
    "from spacy.lang.en.stop_words import STOP_WORDS\n",
    "import string"
   ]
  },
  {
   "cell_type": "code",
   "execution_count": null,
   "metadata": {
    "id": "8PecotPZsGId"
   },
   "outputs": [],
   "source": [
    "stopwords = list(STOP_WORDS)\n",
    "punct = string.punctuation"
   ]
  },
  {
   "cell_type": "code",
   "execution_count": null,
   "metadata": {
    "id": "XP4C5DdysPxG"
   },
   "outputs": [],
   "source": [
    "#Create function for data cleaning, remove stop words and punctuation\n",
    "def data_cleaning(sentence):\n",
    "    doc = nlp(sentence)\n",
    "    \n",
    "    tokens = []\n",
    "    for token in doc:\n",
    "        if token.lemma_ != \"-PRON-\":\n",
    "            temp = token.lemma_.lower().strip()\n",
    "        else:\n",
    "            temp = token.lower_\n",
    "        tokens.append(temp)\n",
    "        \n",
    "    clean_tokens = []\n",
    "    for token in tokens:\n",
    "        if token not in stopwords and token not in punct:\n",
    "            clean_tokens.append(token)\n",
    "    return clean_tokens\n",
    "# Function to convert to string\n",
    "def listToString(s): \n",
    "    str1 = \" \"     \n",
    "    return (str1.join(s))"
   ]
  },
  {
   "cell_type": "code",
   "execution_count": null,
   "metadata": {
    "id": "mSO_5mwhsYwE"
   },
   "outputs": [],
   "source": [
    "#Create a cleaned dataset and store it in a form of list \n",
    "x = []\n",
    "reviews = list(df['REVIEW'])\n",
    "for review in reviews:\n",
    "    x.append(listToString(data_cleaning(review)))"
   ]
  },
  {
   "cell_type": "code",
   "execution_count": null,
   "metadata": {
    "colab": {
     "base_uri": "https://localhost:8080/"
    },
    "id": "4Q6tZLzr4oDJ",
    "outputId": "7adc897f-2000-44dc-c68b-0b770f80d2a6"
   },
   "outputs": [
    {
     "name": "stdout",
     "output_type": "stream",
     "text": [
      "[nltk_data] Downloading package punkt to /root/nltk_data...\n",
      "[nltk_data]   Unzipping tokenizers/punkt.zip.\n"
     ]
    },
    {
     "data": {
      "text/plain": [
       "True"
      ]
     },
     "execution_count": 15,
     "metadata": {
      "tags": []
     },
     "output_type": "execute_result"
    }
   ],
   "source": [
    "import nltk\n",
    "nltk.download('punkt')"
   ]
  },
  {
   "cell_type": "code",
   "execution_count": null,
   "metadata": {
    "id": "TrPqxRs_4xW8"
   },
   "outputs": [],
   "source": [
    "from nltk.tokenize import word_tokenize"
   ]
  },
  {
   "cell_type": "code",
   "execution_count": null,
   "metadata": {
    "id": "QX1MpUXk48gD"
   },
   "outputs": [],
   "source": [
    "xt = []\n",
    "#each sentence will be stored as an array inside the xt list \n",
    "for sentence in x:\n",
    "  xt.append(np.array(word_tokenize(sentence)))"
   ]
  },
  {
   "cell_type": "code",
   "execution_count": null,
   "metadata": {
    "id": "Ys-Ec67b5rwC"
   },
   "outputs": [],
   "source": [
    "#Convert the list into numpy array \n",
    "xt = np.array(xt)"
   ]
  },
  {
   "cell_type": "code",
   "execution_count": null,
   "metadata": {
    "id": "P5shfP4D6DT7"
   },
   "outputs": [],
   "source": [
    "t = list(set(np.concatenate(xt)))"
   ]
  },
  {
   "cell_type": "code",
   "execution_count": null,
   "metadata": {
    "id": "0KshErq86WFF"
   },
   "outputs": [],
   "source": [
    "t = np.array([i for i in t if i.isalpha()])"
   ]
  },
  {
   "cell_type": "code",
   "execution_count": null,
   "metadata": {
    "id": "GlWbg0kR6qiY"
   },
   "outputs": [],
   "source": [
    "t = dict(enumerate(t))"
   ]
  },
  {
   "cell_type": "code",
   "execution_count": null,
   "metadata": {
    "colab": {
     "base_uri": "https://localhost:8080/"
    },
    "id": "TTgaRG1oB2gP",
    "outputId": "b09a4d31-982c-4138-d2f3-8b6b2001e587"
   },
   "outputs": [
    {
     "data": {
      "text/plain": [
       "22265"
      ]
     },
     "execution_count": 22,
     "metadata": {
      "tags": []
     },
     "output_type": "execute_result"
    }
   ],
   "source": [
    "len(t)"
   ]
  },
  {
   "cell_type": "code",
   "execution_count": null,
   "metadata": {
    "id": "FLgTiYNa60LC"
   },
   "outputs": [],
   "source": [
    "#Assigne the serial numbers as keys for the words \n",
    "word_to_index = {b:a for a, b in t.items()}"
   ]
  },
  {
   "cell_type": "code",
   "execution_count": null,
   "metadata": {
    "id": "7dWVqbMx7B6J"
   },
   "outputs": [],
   "source": [
    "#Add each word to the list for its coreesponding value(index)\n",
    "b = []\n",
    "for i in x:\n",
    "  c = []\n",
    "  for j in i:\n",
    "    try:\n",
    "      c.append(word_to_index[j])\n",
    "    except:\n",
    "      pass\n",
    "  b.append(c)\n"
   ]
  },
  {
   "cell_type": "code",
   "execution_count": null,
   "metadata": {
    "colab": {
     "base_uri": "https://localhost:8080/"
    },
    "id": "Ucmk1peFBuoX",
    "outputId": "2cd40005-c5ce-418d-8815-f5de9cae7f5b"
   },
   "outputs": [
    {
     "data": {
      "text/plain": [
       "26029"
      ]
     },
     "execution_count": 25,
     "metadata": {
      "tags": []
     },
     "output_type": "execute_result"
    }
   ],
   "source": [
    "len(b)"
   ]
  },
  {
   "cell_type": "code",
   "execution_count": null,
   "metadata": {
    "colab": {
     "base_uri": "https://localhost:8080/",
     "height": 35
    },
    "id": "TEI5ZMls7jLe",
    "outputId": "3d3f9c3d-e825-47fc-a2ad-cae1d3b0090f"
   },
   "outputs": [
    {
     "data": {
      "application/vnd.google.colaboratory.intrinsic+json": {
       "type": "string"
      },
      "text/plain": [
       "'Positive'"
      ]
     },
     "execution_count": 26,
     "metadata": {
      "tags": []
     },
     "output_type": "execute_result"
    }
   ],
   "source": [
    "df[\"SENTIMENT\"][0]"
   ]
  },
  {
   "cell_type": "code",
   "execution_count": null,
   "metadata": {
    "id": "EmIm5l_G-61v"
   },
   "outputs": [],
   "source": [
    "#Create one hot vector for positive and negative reviews \n",
    "sentiment = []\n",
    "for i in range(len(df)):\n",
    "  if df[\"SENTIMENT\"][i] == \"Positive\":\n",
    "    sentiment.append([1,0])\n",
    "  else:\n",
    "    sentiment.append([0,1])"
   ]
  },
  {
   "cell_type": "code",
   "execution_count": null,
   "metadata": {
    "id": "DS7WzfQvACUo"
   },
   "outputs": [],
   "source": [
    "#Test train split\n",
    "from sklearn.model_selection import train_test_split\n",
    "#Random state can be any integer. It ensures that dataset passed in the train and test models be same. It ensures that prediction remain same \n",
    "X_train, X_test, Y_train, Y_test = train_test_split(b, sentiment, test_size = 0.20, random_state = 0)"
   ]
  },
  {
   "cell_type": "code",
   "execution_count": null,
   "metadata": {
    "id": "PqoBtlKqArNg"
   },
   "outputs": [],
   "source": [
    "#Convert the train and test datas into numpy array \n",
    "X_train = np.array(X_train)\n",
    "Y_train = np.array(Y_train)\n",
    "X_test = np.array(X_test)\n",
    "Y_test = np.array(Y_test)"
   ]
  },
  {
   "cell_type": "code",
   "execution_count": null,
   "metadata": {
    "id": "Hv53aCKZA151"
   },
   "outputs": [],
   "source": [
    "#Create multi hot vector \n",
    "def multi_hot_encode(sequences, dimension):\n",
    "  result = np.zeros((len(sequences), dimension))\n",
    "  for i in range(len(sequences)):\n",
    "    for j in range(len(sequences[i])):\n",
    "      result[i][sequences[i][j]] = 1\n",
    "  return result"
   ]
  },
  {
   "cell_type": "code",
   "execution_count": null,
   "metadata": {
    "id": "89blZVoRBlaB"
   },
   "outputs": [],
   "source": [
    "X_train = multi_hot_encode(X_train, 22310)\n",
    "X_test = multi_hot_encode(X_test, 22310)"
   ]
  },
  {
   "cell_type": "code",
   "execution_count": null,
   "metadata": {
    "colab": {
     "base_uri": "https://localhost:8080/"
    },
    "id": "H1wtBTlrCXsX",
    "outputId": "1d40d8a4-08c9-4192-b985-ae5c2b8c0e0b"
   },
   "outputs": [
    {
     "name": "stdout",
     "output_type": "stream",
     "text": [
      "(20823, 22310)\n",
      "(20823, 2)\n",
      "(5206, 22310)\n",
      "(5206, 2)\n"
     ]
    }
   ],
   "source": [
    "print(X_train.shape)\n",
    "print(Y_train.shape)\n",
    "print(X_test.shape)\n",
    "print(Y_test.shape)"
   ]
  },
  {
   "cell_type": "code",
   "execution_count": null,
   "metadata": {
    "id": "fex-DnUtCo19"
   },
   "outputs": [],
   "source": [
    "#import nlp libraries \n",
    "from tensorflow.keras.models import Sequential\n",
    "from keras.layers.embeddings import Embedding\n",
    "from keras.layers import Flatten\n",
    "from keras.layers.core import Activation, Dense\n"
   ]
  },
  {
   "cell_type": "code",
   "execution_count": null,
   "metadata": {
    "colab": {
     "base_uri": "https://localhost:8080/"
    },
    "id": "ag9eIO90Cc-S",
    "outputId": "5ba85eff-e376-4fdb-8cd1-6861a956c283"
   },
   "outputs": [
    {
     "name": "stdout",
     "output_type": "stream",
     "text": [
      "Model: \"sequential\"\n",
      "_________________________________________________________________\n",
      "Layer (type)                 Output Shape              Param #   \n",
      "=================================================================\n",
      "embedding (Embedding)        (None, 22310, 32)         666336    \n",
      "_________________________________________________________________\n",
      "flatten (Flatten)            (None, 713920)            0         \n",
      "_________________________________________________________________\n",
      "dense (Dense)                (None, 32)                22845472  \n",
      "_________________________________________________________________\n",
      "dense_1 (Dense)              (None, 2)                 66        \n",
      "=================================================================\n",
      "Total params: 23,511,874\n",
      "Trainable params: 23,511,874\n",
      "Non-trainable params: 0\n",
      "_________________________________________________________________\n",
      "None\n"
     ]
    }
   ],
   "source": [
    "#create a model for training \n",
    "def create_model():\n",
    "    model = Sequential()\n",
    "    model.add(Embedding(20823, 32, input_length = 22310))\n",
    "    model.add(Flatten())\n",
    "    model.add(Dense(32, activation='tanh'))\n",
    "    model.add(Dense(2, activation='sigmoid')) #binary classification\n",
    "    model.compile(loss='binary_crossentropy', optimizer='sgd', metrics=['accuracy'])\n",
    "    return model\n",
    "  \n",
    "model = create_model()\n",
    "print(model.summary())"
   ]
  },
  {
   "cell_type": "code",
   "execution_count": null,
   "metadata": {
    "colab": {
     "base_uri": "https://localhost:8080/"
    },
    "id": "Fplp6vpiDPK2",
    "outputId": "a686d840-661a-4cad-d528-89b59f274928"
   },
   "outputs": [
    {
     "name": "stdout",
     "output_type": "stream",
     "text": [
      "Epoch 1/20\n",
      "163/163 [==============================] - 182s 1s/step - loss: 0.6929 - accuracy: 0.5247 - val_loss: 0.6918 - val_accuracy: 0.5259\n",
      "Epoch 2/20\n",
      "163/163 [==============================] - 181s 1s/step - loss: 0.6913 - accuracy: 0.5289 - val_loss: 0.6936 - val_accuracy: 0.5259\n",
      "Epoch 3/20\n",
      "163/163 [==============================] - 181s 1s/step - loss: 0.6903 - accuracy: 0.5358 - val_loss: 0.6914 - val_accuracy: 0.5259\n",
      "Epoch 4/20\n",
      "163/163 [==============================] - 182s 1s/step - loss: 0.6898 - accuracy: 0.5349 - val_loss: 0.6900 - val_accuracy: 0.5259\n",
      "Epoch 5/20\n",
      "163/163 [==============================] - 182s 1s/step - loss: 0.6890 - accuracy: 0.5367 - val_loss: 0.6933 - val_accuracy: 0.5259\n",
      "Epoch 6/20\n",
      "163/163 [==============================] - 182s 1s/step - loss: 0.6884 - accuracy: 0.5436 - val_loss: 0.6911 - val_accuracy: 0.5259\n",
      "Epoch 7/20\n",
      "163/163 [==============================] - 182s 1s/step - loss: 0.6875 - accuracy: 0.5436 - val_loss: 0.6876 - val_accuracy: 0.5540\n",
      "Epoch 8/20\n",
      "163/163 [==============================] - 182s 1s/step - loss: 0.6865 - accuracy: 0.5516 - val_loss: 0.6863 - val_accuracy: 0.5538\n",
      "Epoch 9/20\n",
      "163/163 [==============================] - 181s 1s/step - loss: 0.6851 - accuracy: 0.5599 - val_loss: 0.6854 - val_accuracy: 0.5853\n",
      "Epoch 10/20\n",
      "163/163 [==============================] - 181s 1s/step - loss: 0.6837 - accuracy: 0.5665 - val_loss: 0.6832 - val_accuracy: 0.5743\n",
      "Epoch 11/20\n",
      "163/163 [==============================] - 182s 1s/step - loss: 0.6816 - accuracy: 0.5738 - val_loss: 0.6815 - val_accuracy: 0.5743\n",
      "Epoch 12/20\n",
      "163/163 [==============================] - 181s 1s/step - loss: 0.6802 - accuracy: 0.5789 - val_loss: 0.6796 - val_accuracy: 0.5824\n",
      "Epoch 13/20\n",
      "163/163 [==============================] - 182s 1s/step - loss: 0.6788 - accuracy: 0.5797 - val_loss: 0.6785 - val_accuracy: 0.5766\n",
      "Epoch 14/20\n",
      "163/163 [==============================] - 183s 1s/step - loss: 0.6764 - accuracy: 0.5843 - val_loss: 0.6762 - val_accuracy: 0.5924\n",
      "Epoch 15/20\n",
      "163/163 [==============================] - 181s 1s/step - loss: 0.6756 - accuracy: 0.5899 - val_loss: 0.6768 - val_accuracy: 0.5753\n",
      "Epoch 16/20\n",
      "163/163 [==============================] - 183s 1s/step - loss: 0.6734 - accuracy: 0.5881 - val_loss: 0.6730 - val_accuracy: 0.5937\n",
      "Epoch 17/20\n",
      "163/163 [==============================] - 181s 1s/step - loss: 0.6719 - accuracy: 0.5949 - val_loss: 0.6737 - val_accuracy: 0.5985\n",
      "Epoch 18/20\n",
      "163/163 [==============================] - 181s 1s/step - loss: 0.6704 - accuracy: 0.5949 - val_loss: 0.6741 - val_accuracy: 0.5784\n",
      "Epoch 19/20\n",
      "163/163 [==============================] - 181s 1s/step - loss: 0.6691 - accuracy: 0.5975 - val_loss: 0.6727 - val_accuracy: 0.5795\n",
      "Epoch 20/20\n",
      "163/163 [==============================] - 183s 1s/step - loss: 0.6675 - accuracy: 0.6003 - val_loss: 0.6671 - val_accuracy: 0.5987\n"
     ]
    }
   ],
   "source": [
    "#Train the model \n",
    "import matplotlib.pyplot as plt\n",
    "def fit(model):\n",
    "    history = model.fit(X_train, Y_train, validation_data=(X_test, Y_test), epochs=20, batch_size=128, verbose=1)\n",
    "    scores =  model.evaluate(X_test, Y_test, verbose=0)\n",
    "    history_dict = history.history\n",
    "    return scores,history_dict\n",
    "    \n",
    "scores,history_dict = fit(model)"
   ]
  },
  {
   "cell_type": "code",
   "execution_count": null,
   "metadata": {
    "id": "EWvSj_TCQgf_"
   },
   "outputs": [],
   "source": [
    "#Testing the trained model "
   ]
  },
  {
   "cell_type": "code",
   "execution_count": null,
   "metadata": {
    "id": "VOVJ2Au8LzX1"
   },
   "outputs": [],
   "source": [
    "a = ['The hospital was very good. I am satisfied with my treatment']"
   ]
  },
  {
   "cell_type": "code",
   "execution_count": null,
   "metadata": {
    "colab": {
     "base_uri": "https://localhost:8080/"
    },
    "id": "37Aijn7mMBPu",
    "outputId": "a634f817-d6b5-4c8a-8494-93ba7c785372"
   },
   "outputs": [
    {
     "name": "stdout",
     "output_type": "stream",
     "text": [
      "1\n"
     ]
    }
   ],
   "source": [
    "print(len(a))"
   ]
  },
  {
   "cell_type": "code",
   "execution_count": null,
   "metadata": {
    "id": "RrXlMmVfMFAS"
   },
   "outputs": [],
   "source": [
    "b = []\n",
    "for i in a:\n",
    "  c = []\n",
    "  for j in i.split():\n",
    "    try:\n",
    "      c.append(word_to_index[j])\n",
    "    except:\n",
    "      pass\n",
    "  b.append(c)"
   ]
  },
  {
   "cell_type": "code",
   "execution_count": null,
   "metadata": {
    "id": "AML-XuPFMaUR"
   },
   "outputs": [],
   "source": [
    "b = np.array(b)"
   ]
  },
  {
   "cell_type": "code",
   "execution_count": null,
   "metadata": {
    "colab": {
     "base_uri": "https://localhost:8080/"
    },
    "id": "f-xVjwisMtFF",
    "outputId": "2b11025c-1df6-4868-f1cb-63cd1a44684f"
   },
   "outputs": [
    {
     "data": {
      "text/plain": [
       "array([[17265, 16021,   184,  7079, 12532, 10255,  7955]])"
      ]
     },
     "execution_count": 41,
     "metadata": {
      "tags": []
     },
     "output_type": "execute_result"
    }
   ],
   "source": [
    "b"
   ]
  },
  {
   "cell_type": "code",
   "execution_count": null,
   "metadata": {
    "id": "xrfjeJ_UMxk0"
   },
   "outputs": [],
   "source": [
    "validation = multi_hot_encode(b,22310)"
   ]
  },
  {
   "cell_type": "code",
   "execution_count": null,
   "metadata": {
    "colab": {
     "base_uri": "https://localhost:8080/"
    },
    "id": "59s_t8jMNCFv",
    "outputId": "54838075-75ce-4b6d-a017-7e821c6fc7f3"
   },
   "outputs": [
    {
     "data": {
      "text/plain": [
       "array([[0., 0., 0., ..., 0., 0., 0.]])"
      ]
     },
     "execution_count": 43,
     "metadata": {
      "tags": []
     },
     "output_type": "execute_result"
    }
   ],
   "source": [
    "validation"
   ]
  },
  {
   "cell_type": "code",
   "execution_count": null,
   "metadata": {
    "colab": {
     "base_uri": "https://localhost:8080/"
    },
    "id": "Mm8eB4jGNFb5",
    "outputId": "4b3a625b-c71f-4953-d85f-bc945dd93ab1"
   },
   "outputs": [
    {
     "name": "stdout",
     "output_type": "stream",
     "text": [
      "Neagtive, positive\n",
      "[[0.3289116 0.6795203]]\n"
     ]
    }
   ],
   "source": [
    "print('Neagtive, positive')\n",
    "print(model.predict(validation))"
   ]
  }
 ],
 "metadata": {
  "colab": {
   "collapsed_sections": [],
   "name": "Sentiment Analysis in Healthcare.ipynb",
   "provenance": []
  },
  "kernelspec": {
   "display_name": "Python 3",
   "language": "python",
   "name": "python3"
  },
  "language_info": {
   "codemirror_mode": {
    "name": "ipython",
    "version": 3
   },
   "file_extension": ".py",
   "mimetype": "text/x-python",
   "name": "python",
   "nbconvert_exporter": "python",
   "pygments_lexer": "ipython3",
   "version": "3.8.5"
  }
 },
 "nbformat": 4,
 "nbformat_minor": 1
}
