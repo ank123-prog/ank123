{
 "cells": [
  {
   "cell_type": "code",
   "execution_count": 2,
   "metadata": {},
   "outputs": [],
   "source": [
    "import pandas as pd\n",
    "import numpy as np"
   ]
  },
  {
   "cell_type": "code",
   "execution_count": 3,
   "metadata": {},
   "outputs": [],
   "source": [
    "#we have to skip first 6 rows cause they contains headings which we dont require \n",
    "df1 = pd.read_excel(\"/home/mridul/Downloads/gp-comments-and-responses.xls\", skiprows = 6) \n",
    "#df1 should only contains columns of reviews that is liked and disliked reviews \n",
    "df1 = df1[[\"Liked\", \"Disliked\"]]"
   ]
  },
  {
   "cell_type": "code",
   "execution_count": 4,
   "metadata": {},
   "outputs": [
    {
     "data": {
      "text/html": [
       "<div>\n",
       "<style scoped>\n",
       "    .dataframe tbody tr th:only-of-type {\n",
       "        vertical-align: middle;\n",
       "    }\n",
       "\n",
       "    .dataframe tbody tr th {\n",
       "        vertical-align: top;\n",
       "    }\n",
       "\n",
       "    .dataframe thead th {\n",
       "        text-align: right;\n",
       "    }\n",
       "</style>\n",
       "<table border=\"1\" class=\"dataframe\">\n",
       "  <thead>\n",
       "    <tr style=\"text-align: right;\">\n",
       "      <th></th>\n",
       "      <th>Liked</th>\n",
       "      <th>Disliked</th>\n",
       "    </tr>\n",
       "  </thead>\n",
       "  <tbody>\n",
       "    <tr>\n",
       "      <th>0</th>\n",
       "      <td>Friendly patient (pun not intended) attitude o...</td>\n",
       "      <td>Waiting times are often quite protracted as on...</td>\n",
       "    </tr>\n",
       "    <tr>\n",
       "      <th>1</th>\n",
       "      <td>NaN</td>\n",
       "      <td>They work less hours 4 hours a day as doctors,...</td>\n",
       "    </tr>\n",
       "    <tr>\n",
       "      <th>2</th>\n",
       "      <td>I had tried to register at this surgery as my ...</td>\n",
       "      <td>NaN</td>\n",
       "    </tr>\n",
       "    <tr>\n",
       "      <th>3</th>\n",
       "      <td>Clean, smart surgery, polite and friendly rece...</td>\n",
       "      <td>A female GP would be nice</td>\n",
       "    </tr>\n",
       "    <tr>\n",
       "      <th>4</th>\n",
       "      <td>NaN</td>\n",
       "      <td>This is the second time when I come across sta...</td>\n",
       "    </tr>\n",
       "  </tbody>\n",
       "</table>\n",
       "</div>"
      ],
      "text/plain": [
       "                                               Liked  \\\n",
       "0  Friendly patient (pun not intended) attitude o...   \n",
       "1                                                NaN   \n",
       "2  I had tried to register at this surgery as my ...   \n",
       "3  Clean, smart surgery, polite and friendly rece...   \n",
       "4                                                NaN   \n",
       "\n",
       "                                            Disliked  \n",
       "0  Waiting times are often quite protracted as on...  \n",
       "1  They work less hours 4 hours a day as doctors,...  \n",
       "2                                                NaN  \n",
       "3                          A female GP would be nice  \n",
       "4  This is the second time when I come across sta...  "
      ]
     },
     "execution_count": 4,
     "metadata": {},
     "output_type": "execute_result"
    }
   ],
   "source": [
    "#To check wether it worked or not, lets print first few lines of the df1\n",
    "df1.head()"
   ]
  },
  {
   "cell_type": "code",
   "execution_count": 11,
   "metadata": {},
   "outputs": [],
   "source": [
    "#Create a dataframe which will contain all the positive reviews \n",
    "df = pd.DataFrame()\n",
    "#Create two columns as reviews and sentiment associated with that review\n",
    "df[\"REVIEW\"] = []\n",
    "df[\"SENTIMENT\"] = []"
   ]
  },
  {
   "cell_type": "code",
   "execution_count": 12,
   "metadata": {},
   "outputs": [],
   "source": [
    "#create a numpy array of the df1 reviews so that it can be added to final dataframe i.e. df\n",
    "arr1 = np.array(df1[\"Liked\"])\n",
    "#Next line will remove the null values i.e NaN values from the numpy array\n",
    "arr1 = arr1[~pd.isnull(arr1)]\n",
    "#Create a list of 'Positive' word for the sentiment column\n",
    "df1_liked = [\"Positive\"]*(len(arr1)-1) #Here we are adding \"Positive\" sentiment for the liked comments and it's \n",
    "#length is decreased by 1 cause last line in reviews is total number of reviews in the file(i.e. not a review)"
   ]
  },
  {
   "cell_type": "code",
   "execution_count": 13,
   "metadata": {},
   "outputs": [],
   "source": [
    "#Add the liked reviews to the final data frame\n",
    "df[\"REVIEW\"] = arr1[:-1] #same reason as mentioned in above cell, the length is decreased by 1\n",
    "#Add sentiment to the data frame\n",
    "df[\"SENTIMENT\"] = df1_liked"
   ]
  },
  {
   "cell_type": "code",
   "execution_count": 14,
   "metadata": {},
   "outputs": [
    {
     "data": {
      "text/html": [
       "<div>\n",
       "<style scoped>\n",
       "    .dataframe tbody tr th:only-of-type {\n",
       "        vertical-align: middle;\n",
       "    }\n",
       "\n",
       "    .dataframe tbody tr th {\n",
       "        vertical-align: top;\n",
       "    }\n",
       "\n",
       "    .dataframe thead th {\n",
       "        text-align: right;\n",
       "    }\n",
       "</style>\n",
       "<table border=\"1\" class=\"dataframe\">\n",
       "  <thead>\n",
       "    <tr style=\"text-align: right;\">\n",
       "      <th></th>\n",
       "      <th>REVIEW</th>\n",
       "      <th>SENTIMENT</th>\n",
       "    </tr>\n",
       "  </thead>\n",
       "  <tbody>\n",
       "    <tr>\n",
       "      <th>0</th>\n",
       "      <td>Friendly patient (pun not intended) attitude o...</td>\n",
       "      <td>Positive</td>\n",
       "    </tr>\n",
       "    <tr>\n",
       "      <th>1</th>\n",
       "      <td>I had tried to register at this surgery as my ...</td>\n",
       "      <td>Positive</td>\n",
       "    </tr>\n",
       "    <tr>\n",
       "      <th>2</th>\n",
       "      <td>Clean, smart surgery, polite and friendly rece...</td>\n",
       "      <td>Positive</td>\n",
       "    </tr>\n",
       "    <tr>\n",
       "      <th>3</th>\n",
       "      <td>It's been a year since I have been with this  ...</td>\n",
       "      <td>Positive</td>\n",
       "    </tr>\n",
       "    <tr>\n",
       "      <th>4</th>\n",
       "      <td>I have lived in many parts of the Country and ...</td>\n",
       "      <td>Positive</td>\n",
       "    </tr>\n",
       "    <tr>\n",
       "      <th>...</th>\n",
       "      <td>...</td>\n",
       "      <td>...</td>\n",
       "    </tr>\n",
       "    <tr>\n",
       "      <th>1564</th>\n",
       "      <td>Polite receptionist</td>\n",
       "      <td>Positive</td>\n",
       "    </tr>\n",
       "    <tr>\n",
       "      <th>1565</th>\n",
       "      <td>Unable to get an appointment for over 1 week, ...</td>\n",
       "      <td>Positive</td>\n",
       "    </tr>\n",
       "    <tr>\n",
       "      <th>1566</th>\n",
       "      <td>The doctor is the best GP in the practice, exc...</td>\n",
       "      <td>Positive</td>\n",
       "    </tr>\n",
       "    <tr>\n",
       "      <th>1567</th>\n",
       "      <td>The doctor is the best GP in the practice, exc...</td>\n",
       "      <td>Positive</td>\n",
       "    </tr>\n",
       "    <tr>\n",
       "      <th>1568</th>\n",
       "      <td>My appointment was for 4.00pm and I arrived 5 ...</td>\n",
       "      <td>Positive</td>\n",
       "    </tr>\n",
       "  </tbody>\n",
       "</table>\n",
       "<p>1569 rows × 2 columns</p>\n",
       "</div>"
      ],
      "text/plain": [
       "                                                 REVIEW SENTIMENT\n",
       "0     Friendly patient (pun not intended) attitude o...  Positive\n",
       "1     I had tried to register at this surgery as my ...  Positive\n",
       "2     Clean, smart surgery, polite and friendly rece...  Positive\n",
       "3     It's been a year since I have been with this  ...  Positive\n",
       "4     I have lived in many parts of the Country and ...  Positive\n",
       "...                                                 ...       ...\n",
       "1564                                Polite receptionist  Positive\n",
       "1565  Unable to get an appointment for over 1 week, ...  Positive\n",
       "1566  The doctor is the best GP in the practice, exc...  Positive\n",
       "1567  The doctor is the best GP in the practice, exc...  Positive\n",
       "1568  My appointment was for 4.00pm and I arrived 5 ...  Positive\n",
       "\n",
       "[1569 rows x 2 columns]"
      ]
     },
     "execution_count": 14,
     "metadata": {},
     "output_type": "execute_result"
    }
   ],
   "source": [
    "#Print the dataframe to check wether it is fine or not \n",
    "df"
   ]
  },
  {
   "cell_type": "code",
   "execution_count": 15,
   "metadata": {},
   "outputs": [],
   "source": [
    "#Similarly we will add the disliked comments to the dataframe and label them as negative by creating numpy array\n",
    "arr2 = np.array(df1[\"Disliked\"])\n",
    "#Remove the Nan values \n",
    "arr2 = arr2[~pd.isnull(arr2)]\n",
    "#Add label 'Negative' to the sentiment columns for the disliked comments\n",
    "df1_disliked = [\"Negative\"]*(len(arr2)-1)"
   ]
  },
  {
   "cell_type": "code",
   "execution_count": 16,
   "metadata": {},
   "outputs": [],
   "source": [
    "#Now we will create a temporary dataframe which will contain all the disliked/negayive reviews \n",
    "dfd = pd.DataFrame()\n",
    "#Create columns\n",
    "dfd[\"REVIEW\"] = []\n",
    "dfd[\"SENTIMENT\"] = []"
   ]
  },
  {
   "cell_type": "code",
   "execution_count": 17,
   "metadata": {},
   "outputs": [],
   "source": [
    "#Add the reviews and sentiments \n",
    "dfd[\"REVIEW\"] = arr2[:-1]\n",
    "dfd[\"SENTIMENT\"] = df1_disliked"
   ]
  },
  {
   "cell_type": "code",
   "execution_count": 18,
   "metadata": {},
   "outputs": [
    {
     "data": {
      "text/html": [
       "<div>\n",
       "<style scoped>\n",
       "    .dataframe tbody tr th:only-of-type {\n",
       "        vertical-align: middle;\n",
       "    }\n",
       "\n",
       "    .dataframe tbody tr th {\n",
       "        vertical-align: top;\n",
       "    }\n",
       "\n",
       "    .dataframe thead th {\n",
       "        text-align: right;\n",
       "    }\n",
       "</style>\n",
       "<table border=\"1\" class=\"dataframe\">\n",
       "  <thead>\n",
       "    <tr style=\"text-align: right;\">\n",
       "      <th></th>\n",
       "      <th>REVIEW</th>\n",
       "      <th>SENTIMENT</th>\n",
       "    </tr>\n",
       "  </thead>\n",
       "  <tbody>\n",
       "    <tr>\n",
       "      <th>0</th>\n",
       "      <td>Waiting times are often quite protracted as on...</td>\n",
       "      <td>Negative</td>\n",
       "    </tr>\n",
       "    <tr>\n",
       "      <th>1</th>\n",
       "      <td>They work less hours 4 hours a day as doctors,...</td>\n",
       "      <td>Negative</td>\n",
       "    </tr>\n",
       "    <tr>\n",
       "      <th>2</th>\n",
       "      <td>A female GP would be nice</td>\n",
       "      <td>Negative</td>\n",
       "    </tr>\n",
       "    <tr>\n",
       "      <th>3</th>\n",
       "      <td>This is the second time when I come across sta...</td>\n",
       "      <td>Negative</td>\n",
       "    </tr>\n",
       "    <tr>\n",
       "      <th>4</th>\n",
       "      <td>I think they really need better appointment sy...</td>\n",
       "      <td>Negative</td>\n",
       "    </tr>\n",
       "    <tr>\n",
       "      <th>...</th>\n",
       "      <td>...</td>\n",
       "      <td>...</td>\n",
       "    </tr>\n",
       "    <tr>\n",
       "      <th>1495</th>\n",
       "      <td>I would like to start by saying that the major...</td>\n",
       "      <td>Negative</td>\n",
       "    </tr>\n",
       "    <tr>\n",
       "      <th>1496</th>\n",
       "      <td>I would like to start by saying that the major...</td>\n",
       "      <td>Negative</td>\n",
       "    </tr>\n",
       "    <tr>\n",
       "      <th>1497</th>\n",
       "      <td>impossible to contact by phone\\ndifficult to o...</td>\n",
       "      <td>Negative</td>\n",
       "    </tr>\n",
       "    <tr>\n",
       "      <th>1498</th>\n",
       "      <td>I could have been told that the doctor was run...</td>\n",
       "      <td>Negative</td>\n",
       "    </tr>\n",
       "    <tr>\n",
       "      <th>1499</th>\n",
       "      <td>I am used to ordering repeat prescriptions onl...</td>\n",
       "      <td>Negative</td>\n",
       "    </tr>\n",
       "  </tbody>\n",
       "</table>\n",
       "<p>1500 rows × 2 columns</p>\n",
       "</div>"
      ],
      "text/plain": [
       "                                                 REVIEW SENTIMENT\n",
       "0     Waiting times are often quite protracted as on...  Negative\n",
       "1     They work less hours 4 hours a day as doctors,...  Negative\n",
       "2                             A female GP would be nice  Negative\n",
       "3     This is the second time when I come across sta...  Negative\n",
       "4     I think they really need better appointment sy...  Negative\n",
       "...                                                 ...       ...\n",
       "1495  I would like to start by saying that the major...  Negative\n",
       "1496  I would like to start by saying that the major...  Negative\n",
       "1497  impossible to contact by phone\\ndifficult to o...  Negative\n",
       "1498  I could have been told that the doctor was run...  Negative\n",
       "1499  I am used to ordering repeat prescriptions onl...  Negative\n",
       "\n",
       "[1500 rows x 2 columns]"
      ]
     },
     "execution_count": 18,
     "metadata": {},
     "output_type": "execute_result"
    }
   ],
   "source": [
    "#Preview of the dfd which contains the negative reviews \n",
    "dfd"
   ]
  },
  {
   "cell_type": "code",
   "execution_count": 20,
   "metadata": {},
   "outputs": [],
   "source": [
    "#Now we will concatinate the two dataframes (Positive and Negative Reviews) into one dataframe \n",
    "df = pd.concat([df, dfd], axis = 0) #Axis will be zero so that columns remain the same"
   ]
  },
  {
   "cell_type": "code",
   "execution_count": 21,
   "metadata": {},
   "outputs": [
    {
     "data": {
      "text/html": [
       "<div>\n",
       "<style scoped>\n",
       "    .dataframe tbody tr th:only-of-type {\n",
       "        vertical-align: middle;\n",
       "    }\n",
       "\n",
       "    .dataframe tbody tr th {\n",
       "        vertical-align: top;\n",
       "    }\n",
       "\n",
       "    .dataframe thead th {\n",
       "        text-align: right;\n",
       "    }\n",
       "</style>\n",
       "<table border=\"1\" class=\"dataframe\">\n",
       "  <thead>\n",
       "    <tr style=\"text-align: right;\">\n",
       "      <th></th>\n",
       "      <th>REVIEW</th>\n",
       "      <th>SENTIMENT</th>\n",
       "    </tr>\n",
       "  </thead>\n",
       "  <tbody>\n",
       "    <tr>\n",
       "      <th>0</th>\n",
       "      <td>Friendly patient (pun not intended) attitude o...</td>\n",
       "      <td>Positive</td>\n",
       "    </tr>\n",
       "    <tr>\n",
       "      <th>1</th>\n",
       "      <td>I had tried to register at this surgery as my ...</td>\n",
       "      <td>Positive</td>\n",
       "    </tr>\n",
       "    <tr>\n",
       "      <th>2</th>\n",
       "      <td>Clean, smart surgery, polite and friendly rece...</td>\n",
       "      <td>Positive</td>\n",
       "    </tr>\n",
       "    <tr>\n",
       "      <th>3</th>\n",
       "      <td>It's been a year since I have been with this  ...</td>\n",
       "      <td>Positive</td>\n",
       "    </tr>\n",
       "    <tr>\n",
       "      <th>4</th>\n",
       "      <td>I have lived in many parts of the Country and ...</td>\n",
       "      <td>Positive</td>\n",
       "    </tr>\n",
       "    <tr>\n",
       "      <th>...</th>\n",
       "      <td>...</td>\n",
       "      <td>...</td>\n",
       "    </tr>\n",
       "    <tr>\n",
       "      <th>1495</th>\n",
       "      <td>I would like to start by saying that the major...</td>\n",
       "      <td>Negative</td>\n",
       "    </tr>\n",
       "    <tr>\n",
       "      <th>1496</th>\n",
       "      <td>I would like to start by saying that the major...</td>\n",
       "      <td>Negative</td>\n",
       "    </tr>\n",
       "    <tr>\n",
       "      <th>1497</th>\n",
       "      <td>impossible to contact by phone\\ndifficult to o...</td>\n",
       "      <td>Negative</td>\n",
       "    </tr>\n",
       "    <tr>\n",
       "      <th>1498</th>\n",
       "      <td>I could have been told that the doctor was run...</td>\n",
       "      <td>Negative</td>\n",
       "    </tr>\n",
       "    <tr>\n",
       "      <th>1499</th>\n",
       "      <td>I am used to ordering repeat prescriptions onl...</td>\n",
       "      <td>Negative</td>\n",
       "    </tr>\n",
       "  </tbody>\n",
       "</table>\n",
       "<p>3069 rows × 2 columns</p>\n",
       "</div>"
      ],
      "text/plain": [
       "                                                 REVIEW SENTIMENT\n",
       "0     Friendly patient (pun not intended) attitude o...  Positive\n",
       "1     I had tried to register at this surgery as my ...  Positive\n",
       "2     Clean, smart surgery, polite and friendly rece...  Positive\n",
       "3     It's been a year since I have been with this  ...  Positive\n",
       "4     I have lived in many parts of the Country and ...  Positive\n",
       "...                                                 ...       ...\n",
       "1495  I would like to start by saying that the major...  Negative\n",
       "1496  I would like to start by saying that the major...  Negative\n",
       "1497  impossible to contact by phone\\ndifficult to o...  Negative\n",
       "1498  I could have been told that the doctor was run...  Negative\n",
       "1499  I am used to ordering repeat prescriptions onl...  Negative\n",
       "\n",
       "[3069 rows x 2 columns]"
      ]
     },
     "execution_count": 21,
     "metadata": {},
     "output_type": "execute_result"
    }
   ],
   "source": [
    "#The final data set\n",
    "df"
   ]
  },
  {
   "cell_type": "code",
   "execution_count": 22,
   "metadata": {},
   "outputs": [],
   "source": [
    "#Now we will import another file for the more reviews and follow the same steps in creating the data set and \n",
    "#concatinate it two the above data frame \n"
   ]
  },
  {
   "cell_type": "code",
   "execution_count": 25,
   "metadata": {},
   "outputs": [],
   "source": [
    "#THESE ARE THE SAME STEPS AS FOLLOWED ABOVE "
   ]
  },
  {
   "cell_type": "code",
   "execution_count": 23,
   "metadata": {},
   "outputs": [],
   "source": [
    "df2 = pd.read_excel(\"/home/mridul/Downloads/hospital-comments-report (1).xls\", skiprows = 6)"
   ]
  },
  {
   "cell_type": "code",
   "execution_count": 24,
   "metadata": {},
   "outputs": [],
   "source": [
    "df2 = df2[[\"Liked\",\"Disliked\"]]"
   ]
  },
  {
   "cell_type": "code",
   "execution_count": 29,
   "metadata": {},
   "outputs": [],
   "source": [
    "arr3 = np.array(df2[\"Liked\"])\n",
    "arr3 = arr3[~pd.isnull(arr3)]\n",
    "df2_liked = [\"Positive\"]*(len(arr3))"
   ]
  },
  {
   "cell_type": "code",
   "execution_count": 30,
   "metadata": {},
   "outputs": [],
   "source": [
    "dfd = pd.DataFrame()\n",
    "dfd[\"REVIEW\"] = []\n",
    "dfd[\"SENTIMENT\"] = []"
   ]
  },
  {
   "cell_type": "code",
   "execution_count": 31,
   "metadata": {},
   "outputs": [],
   "source": [
    "dfd[\"REVIEW\"] = arr3\n",
    "dfd[\"SENTIMENT\"] = df2_liked"
   ]
  },
  {
   "cell_type": "code",
   "execution_count": 32,
   "metadata": {},
   "outputs": [],
   "source": [
    "#concatinate the dfd data frame with the main dataframe \n",
    "df = pd.concat([df,dfd], axis=0)"
   ]
  },
  {
   "cell_type": "code",
   "execution_count": 35,
   "metadata": {},
   "outputs": [],
   "source": [
    "arr4 = np.array(df2[\"Disliked\"])\n",
    "arr4 = arr4[~pd.isnull(arr4)]\n",
    "df2_dislike = [\"Negative\"]*len(arr4)"
   ]
  },
  {
   "cell_type": "code",
   "execution_count": 37,
   "metadata": {},
   "outputs": [],
   "source": [
    "dfd = pd.DataFrame()\n",
    "dfd[\"REVIEW\"] = []\n",
    "dfd[\"SENTIMENT\"] = []"
   ]
  },
  {
   "cell_type": "code",
   "execution_count": 38,
   "metadata": {},
   "outputs": [],
   "source": [
    "dfd[\"REVIEW\"] = arr4\n",
    "dfd[\"SENTIMENT\"] = df2_dislike"
   ]
  },
  {
   "cell_type": "code",
   "execution_count": 39,
   "metadata": {},
   "outputs": [],
   "source": [
    "#Concatinate the reviews\n",
    "df = pd.concat([df,dfd], axis = 0)"
   ]
  },
  {
   "cell_type": "markdown",
   "metadata": {},
   "source": [
    "# The Final DataSet"
   ]
  },
  {
   "cell_type": "code",
   "execution_count": 40,
   "metadata": {},
   "outputs": [
    {
     "data": {
      "text/html": [
       "<div>\n",
       "<style scoped>\n",
       "    .dataframe tbody tr th:only-of-type {\n",
       "        vertical-align: middle;\n",
       "    }\n",
       "\n",
       "    .dataframe tbody tr th {\n",
       "        vertical-align: top;\n",
       "    }\n",
       "\n",
       "    .dataframe thead th {\n",
       "        text-align: right;\n",
       "    }\n",
       "</style>\n",
       "<table border=\"1\" class=\"dataframe\">\n",
       "  <thead>\n",
       "    <tr style=\"text-align: right;\">\n",
       "      <th></th>\n",
       "      <th>REVIEW</th>\n",
       "      <th>SENTIMENT</th>\n",
       "    </tr>\n",
       "  </thead>\n",
       "  <tbody>\n",
       "    <tr>\n",
       "      <th>0</th>\n",
       "      <td>Friendly patient (pun not intended) attitude o...</td>\n",
       "      <td>Positive</td>\n",
       "    </tr>\n",
       "    <tr>\n",
       "      <th>1</th>\n",
       "      <td>I had tried to register at this surgery as my ...</td>\n",
       "      <td>Positive</td>\n",
       "    </tr>\n",
       "    <tr>\n",
       "      <th>2</th>\n",
       "      <td>Clean, smart surgery, polite and friendly rece...</td>\n",
       "      <td>Positive</td>\n",
       "    </tr>\n",
       "    <tr>\n",
       "      <th>3</th>\n",
       "      <td>It's been a year since I have been with this  ...</td>\n",
       "      <td>Positive</td>\n",
       "    </tr>\n",
       "    <tr>\n",
       "      <th>4</th>\n",
       "      <td>I have lived in many parts of the Country and ...</td>\n",
       "      <td>Positive</td>\n",
       "    </tr>\n",
       "    <tr>\n",
       "      <th>...</th>\n",
       "      <td>...</td>\n",
       "      <td>...</td>\n",
       "    </tr>\n",
       "    <tr>\n",
       "      <th>10672</th>\n",
       "      <td>My friend who was in for at least a month with...</td>\n",
       "      <td>Negative</td>\n",
       "    </tr>\n",
       "    <tr>\n",
       "      <th>10673</th>\n",
       "      <td>Id be interested in your views and help in und...</td>\n",
       "      <td>Negative</td>\n",
       "    </tr>\n",
       "    <tr>\n",
       "      <th>10674</th>\n",
       "      <td>More nice staff like those two, the nurses wer...</td>\n",
       "      <td>Negative</td>\n",
       "    </tr>\n",
       "    <tr>\n",
       "      <th>10675</th>\n",
       "      <td>Visited my relative on WD14 today and the nurs...</td>\n",
       "      <td>Negative</td>\n",
       "    </tr>\n",
       "    <tr>\n",
       "      <th>10676</th>\n",
       "      <td>the waiting time</td>\n",
       "      <td>Negative</td>\n",
       "    </tr>\n",
       "  </tbody>\n",
       "</table>\n",
       "<p>26029 rows × 2 columns</p>\n",
       "</div>"
      ],
      "text/plain": [
       "                                                  REVIEW SENTIMENT\n",
       "0      Friendly patient (pun not intended) attitude o...  Positive\n",
       "1      I had tried to register at this surgery as my ...  Positive\n",
       "2      Clean, smart surgery, polite and friendly rece...  Positive\n",
       "3      It's been a year since I have been with this  ...  Positive\n",
       "4      I have lived in many parts of the Country and ...  Positive\n",
       "...                                                  ...       ...\n",
       "10672  My friend who was in for at least a month with...  Negative\n",
       "10673  Id be interested in your views and help in und...  Negative\n",
       "10674  More nice staff like those two, the nurses wer...  Negative\n",
       "10675  Visited my relative on WD14 today and the nurs...  Negative\n",
       "10676                                   the waiting time  Negative\n",
       "\n",
       "[26029 rows x 2 columns]"
      ]
     },
     "execution_count": 40,
     "metadata": {},
     "output_type": "execute_result"
    }
   ],
   "source": [
    "df"
   ]
  },
  {
   "cell_type": "code",
   "execution_count": 41,
   "metadata": {},
   "outputs": [],
   "source": [
    "#Now save the data frame by cretaing a csv file \n",
    "df.to_csv(\"DataSet.csv\")"
   ]
  },
  {
   "cell_type": "code",
   "execution_count": null,
   "metadata": {},
   "outputs": [],
   "source": []
  }
 ],
 "metadata": {
  "kernelspec": {
   "display_name": "Python 3",
   "language": "python",
   "name": "python3"
  },
  "language_info": {
   "codemirror_mode": {
    "name": "ipython",
    "version": 3
   },
   "file_extension": ".py",
   "mimetype": "text/x-python",
   "name": "python",
   "nbconvert_exporter": "python",
   "pygments_lexer": "ipython3",
   "version": "3.8.5"
  }
 },
 "nbformat": 4,
 "nbformat_minor": 4
}
